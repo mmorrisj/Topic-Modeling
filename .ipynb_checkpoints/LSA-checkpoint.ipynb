{
 "cells": [
  {
   "cell_type": "markdown",
   "metadata": {},
   "source": [
    "# Text Analytics on Web Articles"
   ]
  },
  {
   "cell_type": "markdown",
   "metadata": {},
   "source": [
    "shell starts at the loading of JSON file. \n",
    "Restructured parsing language match the structure of the JSON files im importing, in this case news articles loaded from the newsapi and newspaper package. \n",
    "\n",
    "\n",
    "\n",
    "I initially manually put in api links, which only view and download 100 articles via newapi at a time due to restrictions of the API (free accounts can only do 100 queries a day with access to only 3 months of data.) So the max I could load as a free user was 10000 articles a day (One semi-ethical way to get around this would be to setup up multiple newsapi accounts and jump api keys once the limit was reached). I would have to copy and paste JSON files into a folder which the code used. Id'd quickly a need to automate the downloading, consolidation, of JSON downlaods. \n",
    "\n",
    "newsapi only provides the article metadata, Title, data, author, url , and description. For NLP I needed the whole article, which I found I could grab utilizing the url from newsapi and the newspaper package which can download the body text of articles. \n",
    "\n",
    "Once I had the JSON from newsapi consolidated, I had to figure out how to navigate the file and grab the data I actually wanted to use in my analysis. As I iterated through each article and parsed out the data I wanted I also enabled newspaper3k with the url to download and save the text body into the database. The downloading of the article is by the most combersome part of this process. "
   ]
  },
  {
   "cell_type": "markdown",
   "metadata": {},
   "source": [
    "This notebook uses LSA to identify clusters/themes in intelligence products exported from UltraFIND query results.  It includes the following steps:\n",
    "\n",
    "   1.  Parse products from NewsAPI exports\n",
    "   2.  Convert documents to tokens represented as weighted term-frequency vectors\n",
    "   3.  Reduce the dimensionality of the document term-frequency vectors, creating a Latent Semantic Index (LSI)\n",
    "   4.  Perform k-means clustering of the LSI document vectors and describe the key terms in each grouping\n",
    "   5.  Further reduce LSI vectors to 2 dimensions (x and y), enabling documents to be plotted in 2D space\n",
    "   6.  Create an Excel file with document metadata, cluster assignment, top weighted terms, and reduced LSI x/y values to enable visualization in tools like Tableau"
   ]
  },
  {
   "cell_type": "markdown",
   "metadata": {},
   "source": [
    "### 1.  Parse JSON Data"
   ]
  },
  {
   "cell_type": "code",
   "execution_count": 1,
   "metadata": {},
   "outputs": [
    {
     "name": "stdout",
     "output_type": "stream",
     "text": [
      "Files can be found in C:\\Users\\589636\\Documents\\Jupyter_Notebook\\Sam Harris\n"
     ]
    }
   ],
   "source": [
    "theme='Sam Harris'\n",
    "# lsapath='C:\\\\Users\\\\Matthew\\\\Documents\\\\Jupyter Notebook\\\\'+theme\n",
    "lsapath='C:\\\\Users\\\\589636\\\\Documents\\\\Jupyter_Notebook\\\\'+theme\n",
    "data_path=lsapath+'\\\\'+'JSON'\n",
    "\n",
    "print(\"Files can be found in\"+\" \"+lsapath)"
   ]
  },
  {
   "cell_type": "markdown",
   "metadata": {},
   "source": [
    "To build a dataset, I used NewsAPI a simple HTTP REST API for searching and retrieving live articles from all over the web. News API indexes articles from over 30,000 worldwide sources (including main news sources such as ABC,BBC,CBS. CNN,Fox News etc. It also pulls blogs and online journals which are publicly available. Typically, NewsAPI is used to answer questions such as:\n",
    "\n",
    "    •What top stories is the NY Times running right now?\n",
    "    •What new articles were published about the next iPhone today?\n",
    "    •Has my company or product been mentioned or reviewed by any blogs recently?\n",
    "    \n",
    "You can search for articles with any combination of the following criteria:\n",
    "\n",
    "    •Keyword or phrase. Eg: find all articles containing the word 'Microsoft'.\n",
    "    •Date published. Eg: find all articles published yesterday.\n",
    "    •Source name. Eg: find all articles by 'TechCrunch'.\n",
    "    •Source domain name. Eg: find all articles published on nytimes.com.\n",
    "    •Language. Eg: find all articles written in English.\n",
    "\n",
    "You can sort the results in the following orders:\n",
    "\n",
    "    •Date published\n",
    "    •Relevancy to search keyword\n",
    "    •Popularity of source\n",
    "\n",
    "To use NewAPI you simply place a link into your address bar with specific parameters.\n",
    "For Example:\n",
    "\n",
    "\"https://newsapi.org/v2/everything?q='Deep Learning'&pageSize=100&language=en&sortBy=popularity&apiKey=(users API)\" \n",
    "\n",
    "returns all articles on deep learning, each page returned will have a max of 100 articles, articles will be in english, and sorted by popularity. There are limits for free-subscribers of NewsAPI. Results only go back 3 months and queries are limited to 100 a day. Meaning that 10,000 is the max amount of articles I can pull daily. \n"
   ]
  },
  {
   "cell_type": "markdown",
   "metadata": {},
   "source": [
    "Development was very iterative, slowly adding feature on feature which removed any manual inputs or movement of data. My goal was to have the use just input a topic and the tool would collect, parse, and process the data all on its own, outputting a dataframe for use in Tableau. "
   ]
  },
  {
   "cell_type": "code",
   "execution_count": 2,
   "metadata": {},
   "outputs": [],
   "source": [
    "import requests\n",
    "import json\n",
    "import os\n",
    "\n",
    "lsadirectory = os.path.dirname(lsapath)\n",
    "os.makedirs(lsadirectory,exist_ok=True)\n",
    "datadirectory=os.path.dirname(data_path)\n",
    "os.makedirs(data_path,exist_ok=True)\n",
    "completeName=os.path.join(data_path,'data.json')\n",
    "datafile= open(completeName, \"w\")\n",
    "dataloc=data_path+'\\\\data.json'\n",
    "\n",
    "def Qry_Everything(a):\n",
    "    qry='\"'+a+'\"'\n",
    "    urlPull=[]\n",
    "    url=requests.get('https://newsapi.org/v2/everything?q='+qry+'&pageSize=100&language=en&sortBy=popularity&apiKey=ace093f36e984882aa515fa0120f111a')\n",
    "    urlPull.append(url.json())\n",
    "    for a in urlPull:\n",
    "        num=(a['totalResults'])\n",
    "    i=0\n",
    "    df=[]\n",
    "    while 99 > i < int(round(num/100)):\n",
    "        i=i+1\n",
    "        url=requests.get('https://newsapi.org/v2/everything?page='+str(i)+'&q='+qry+'&pageSize=100&language=en&sortBy=popularity&apiKey=ace093f36e984882aa515fa0120f111a')\n",
    "        df.append(url.json())\n",
    "        i+1\n",
    "    with datafile as f:\n",
    "        json.dump(df, f)\n",
    "    print(str(num) +' articles pulled')\n"
   ]
  },
  {
   "cell_type": "code",
   "execution_count": 3,
   "metadata": {
    "scrolled": false
   },
   "outputs": [
    {
     "name": "stdout",
     "output_type": "stream",
     "text": [
      "283 articles pulled\n"
     ]
    }
   ],
   "source": [
    "Qry_Everything(theme)\n"
   ]
  },
  {
   "cell_type": "code",
   "execution_count": null,
   "metadata": {
    "scrolled": true
   },
   "outputs": [],
   "source": [
    "%%time\n",
    "import json\n",
    "import os\n",
    "import re\n",
    "import requests\n",
    "import numpy as np\n",
    "from pprint import pprint\n",
    "from newspaper import Article\n",
    "\n",
    "# Path to directory containing UltraFIND JSON export files\n",
    "directory = lsapath+'\\\\JSON'\n",
    "results=lsapath+'\\\\'+theme+\" \"+'results.json'\n",
    "fails=lsapath+'\\\\'+theme+\" \"+'failed_url.json'\n",
    "oldurls=[]\n",
    "fail=[]\n",
    "dlCount=0\n",
    "pull=[]\n",
    "# Parse JSON export files and add GUIDE, title, date, producer, and document body to 'docs'\n",
    "#3/13/2018-Added guide ID, country codes, description, receipt date,collection, and adjusted url fields for parsing.  \n",
    "try:\n",
    "    with open(results, 'r')as g:\n",
    "        pull=json.load(g)\n",
    "        for b in pull:\n",
    "            durl=b['url']\n",
    "            oldurls.append(durl)\n",
    "    with open(fails, 'r')as f:\n",
    "        fpull=json.load(f)\n",
    "        for b in fpull:\n",
    "            furl=b['url']\n",
    "            fail.append(furl)   \n",
    "except: \n",
    "    pass\n",
    "\n",
    "with open(dataloc, 'r',encoding='utf-8-sig') as f:\n",
    "    data = json.load(f)\n",
    "    for obj in data:\n",
    "        articles=obj['articles']\n",
    "        for a in articles:\n",
    "            url=(a['url'])\n",
    "            if url in oldurls or url in fail:\n",
    "                dlCount=dlCount+1\n",
    "            else:\n",
    "                article=Article(url.strip())\n",
    "                try:\n",
    "                    article.download()\n",
    "                    while article.download_state == 0: #ArticleDownloadState.NOT_STARTED is 0\n",
    "                        time.sleep(1)\n",
    "                    article.parse()\n",
    "                except:\n",
    "                    fail.append(url)\n",
    "                    with open(fails,\"w\")as fp:\n",
    "                        json.dump(fail,fp,indent=4)\n",
    "                    continue  \n",
    "                source=(a['source']['name'])\n",
    "                author=(a['author'])\n",
    "                titles=(a['title'])\n",
    "                description=(a['description'])\n",
    "                date=(a['publishedAt']) \n",
    "                text=article.text\n",
    "                pull.append({'source':source,'author':author,'title':titles,'description':description,'url':url,'date':date,'text':text})\n",
    "                with open(results,\"w\")as fp:\n",
    "                    json.dump(pull,fp,indent=4)\n",
    "print(\"Successfully parsed \" + str(len(pull)) + \" documents.\")\n",
    "print(str(len(fail)) + \"Docs Failed\")\n",
    "print(str(dlCount) + \"Documents already loaded!\" )"
   ]
  },
  {
   "cell_type": "code",
   "execution_count": 32,
   "metadata": {
    "scrolled": true
   },
   "outputs": [
    {
     "name": "stdout",
     "output_type": "stream",
     "text": [
      "Successfully parsed 135 documents.\n",
      "0Docs Failed\n",
      "0Documents already loaded!\n",
      "Wall time: 1.98 s\n"
     ]
    }
   ],
   "source": [
    "%%time\n",
    "import json\n",
    "import os\n",
    "import re\n",
    "import requests\n",
    "import numpy as np\n",
    "from pprint import pprint\n",
    "from newspaper import Article\n",
    "\n",
    "# Path to directory containing UltraFIND JSON export files\n",
    "directory = lsapath+'\\\\JSON'\n",
    "results=lsapath+'\\\\'+theme+\" \"+'results.json'\n",
    "fails=lsapath+'\\\\'+theme+\" \"+'failed_url.json'\n",
    "oldurls=[]\n",
    "fail=[]\n",
    "dlCount=0\n",
    "pull=[]\n",
    "\n",
    "with open(results, 'r')as g:\n",
    "    pull=json.load(g)\n",
    "        "
   ]
  },
  {
   "cell_type": "code",
   "execution_count": 20,
   "metadata": {},
   "outputs": [
    {
     "name": "stdout",
     "output_type": "stream",
     "text": [
      "[{'source': ['name'], 'author': ['author'], 'title': ['title'], 'description': ['description'], 'url': ['url'], 'date': ['publishedAt'], 'text': ['text']}, {'source': ['name'], 'author': ['author'], 'title': ['title'], 'description': ['description'], 'url': ['url'], 'date': ['publishedAt'], 'text': ['text']}, {'source': ['name'], 'author': ['author'], 'title': ['title'], 'description': ['description'], 'url': ['url'], 'date': ['publishedAt'], 'text': ['text']}, {'source': ['name'], 'author': ['author'], 'title': ['title'], 'description': ['description'], 'url': ['url'], 'date': ['publishedAt'], 'text': ['text']}, {'source': ['name'], 'author': ['author'], 'title': ['title'], 'description': ['description'], 'url': ['url'], 'date': ['publishedAt'], 'text': ['text']}, {'source': ['name'], 'author': ['author'], 'title': ['title'], 'description': ['description'], 'url': ['url'], 'date': ['publishedAt'], 'text': ['text']}, {'source': ['name'], 'author': ['author'], 'title': ['title'], 'description': ['description'], 'url': ['url'], 'date': ['publishedAt'], 'text': ['text']}, {'source': ['name'], 'author': ['author'], 'title': ['title'], 'description': ['description'], 'url': ['url'], 'date': ['publishedAt'], 'text': ['text']}, {'source': ['name'], 'author': ['author'], 'title': ['title'], 'description': ['description'], 'url': ['url'], 'date': ['publishedAt'], 'text': ['text']}, {'source': ['name'], 'author': ['author'], 'title': ['title'], 'description': ['description'], 'url': ['url'], 'date': ['publishedAt'], 'text': ['text']}]\n"
     ]
    }
   ],
   "source": [
    "print(pull[:10])"
   ]
  },
  {
   "cell_type": "code",
   "execution_count": 7,
   "metadata": {
    "scrolled": false
   },
   "outputs": [
    {
     "name": "stdout",
     "output_type": "stream",
     "text": [
      "Wall time: 15.6 ms\n"
     ]
    }
   ],
   "source": [
    "%%time\n",
    "\n",
    "import nltk\n",
    "from nltk import pos_tag, ngrams\n",
    "from nltk.tokenize import word_tokenize, sent_tokenize\n",
    "from nltk.corpus import stopwords\n",
    "from nltk.stem.wordnet import WordNetLemmatizer\n",
    "import re\n",
    "from sklearn.externals import joblib\n",
    "directory = lsapath+'\\\\JSON'\n",
    "results=lsapath+'\\\\'+theme+\" \"+'results.json'\n",
    "fails=lsapath+'\\\\'+theme+\" \"+'failed_url.json'\n",
    "with open(results, 'r')as g:\n",
    "    pull=json.load(g)\n",
    "# Use boilerplate classifier to filter text?\n",
    "filter_boilerplate = False\n",
    "svm_path = './svm.pkl' #path to saved SVM model\n",
    "vectorizer_path = './vectorizer.pkl' #path to saved TF-IDF vectorizer\n",
    "\n",
    "\n",
    "parsed_docs = []\n",
    "titles = []\n",
    "source = []\n",
    "date = []\n",
    "url = []\n",
    "boilerplate = []\n",
    "author=[]\n",
    "description=[]\n",
    "\n",
    "        \n",
    "for doc in pull:\n",
    "    try:    \n",
    "        titles.append(doc['title'])\n",
    "        source.append(doc['source'])\n",
    "        date.append(doc['date'])\n",
    "        url.append(doc['url'])\n",
    "        author.append(doc['author'])\n",
    "        description.append(doc['description'])\n",
    "        \n",
    "        \n",
    "        if filter_boilerplate:\n",
    "            svm = joblib.load(svm_path) #load classifier model\n",
    "            vectorizer = joblib.load(vectorizer_path) #load TF-IDF vectorizer\n",
    "            sentences = [sent.lstrip() for sent in sent_tokenize(doc['text']) if sent.strip()]\n",
    "            content = ''\n",
    "            X = vectorizer.fit_transform(sentences) #convert sentences to TF-IDF vectors\n",
    "            labels = svm.predict(X) #label sentences as boilerplate/content\n",
    "            for idx, label in enumerate(labels):\n",
    "                if label == 'c':\n",
    "                    content += sentences[idx] + ' '\n",
    "                else:\n",
    "                    boilerplate.append(sentences[idx])\n",
    "            parsed_docs.append(content)\n",
    "        else:\n",
    "            parsed_docs.append(doc['text'])\n",
    "    except:\n",
    "        print('Parsing error in ' + doc['title'])\n",
    "        break"
   ]
  },
  {
   "cell_type": "markdown",
   "metadata": {},
   "source": [
    "We then define how we want to clean and normalize the text while converting it to a \"bag of words\" that represents the substantive content.  Here we disregard common English \"stop words\" (e.g., the, or, is), classificaiton markings, and other common intelligence boilerplate words that may have eluded our predictive filter (if using).  We also lemmatize the resulting terms (e.g., \"running\", \"ran\", and \"runs\" all get collapsed into the same root \"run\")."
   ]
  },
  {
   "cell_type": "code",
   "execution_count": 10,
   "metadata": {},
   "outputs": [],
   "source": [
    "from nltk.corpus import stopwords\n",
    "\n",
    "# Load NLTK's stopwords dictionary and WordNet lemmatizer\n",
    "stopwords = stopwords.words('english')\n",
    "lemma = WordNetLemmatizer()\n",
    "\n",
    "#\n",
    "\n",
    "# Define list of custom intel-related filler words that might make it past boilerplate filter\n",
    "stopwords_ext = open('stopwords_extended.txt', 'r').readlines()\n",
    "stopwords_ext = [x.strip() for x in stopwords_ext]\n",
    "\n",
    "# Derive the properly-formatted POS tag for the WordNet lemmatizer in the 'tokenize' function\n",
    "def get_wordnet_tag(tag):\n",
    "    if tag.startswith('N'):\n",
    "        return 'n' #noun\n",
    "    if tag.startswith('V'):\n",
    "        return 'v' #verb\n",
    "    if tag.startswith('J'):\n",
    "        return 'a' #adjective\n",
    "    if tag.startswith('R'):\n",
    "        return 'r' #adverb\n",
    "    else:\n",
    "        return 'n' #if some other type, default to noun\n",
    "\n",
    "# Clean, tokenize, and lemmatize document body\n",
    "def tokenize(doc):\n",
    "    tokens = [word.lower() for sent in sent_tokenize(doc) for word in word_tokenize(sent)]\n",
    "    filtered_tokens = []\n",
    "    for token in tokens:\n",
    "        if token not in stopwords_ext and token not in stopwords: \n",
    "            filtered_tokens.append(token)    \n",
    "    tagged_tokens = pos_tag(filtered_tokens)\n",
    "    lemmas = [lemma.lemmatize(tagged[0], pos=get_wordnet_tag(tagged[1])) for tagged in tagged_tokens]\n",
    "    lemmas = [lemma for lemma in lemmas if lemma not in stopwords_ext]\n",
    "    return lemmas\n",
    "\n",
    "def tokenize_ngrams(doc, n):\n",
    "    grams = ngrams(tokenize(doc), n)\n",
    "    return [' '.join(gram) for gram in grams]"
   ]
  },
  {
   "cell_type": "markdown",
   "metadata": {},
   "source": [
    "### 3.  Convert Documents to Vectors"
   ]
  },
  {
   "cell_type": "code",
   "execution_count": 13,
   "metadata": {},
   "outputs": [
    {
     "name": "stdout",
     "output_type": "stream",
     "text": [
      "Created dictionary of 4242 unique terms\n",
      "135\n",
      "Wall time: 13.6 s\n"
     ]
    }
   ],
   "source": [
    "%%time\n",
    "\n",
    "from sklearn.feature_extraction.text import TfidfVectorizer\n",
    "from sklearn.metrics.pairwise import cosine_similarity\n",
    "from sklearn.pipeline import make_pipeline\n",
    "from sklearn.preprocessing import Normalizer\n",
    "from sklearn.decomposition import TruncatedSVD\n",
    "\n",
    "# Build TF-IDF matrix using the Tokenize function that we just defined, and get list of terms that made the cut\n",
    "tfidf = TfidfVectorizer(max_df=0.8, max_features=200000, min_df=5, stop_words='english', \n",
    "                                   use_idf=True, tokenizer=tokenize, ngram_range=(1,2))\n",
    "\n",
    "tfidf_matrix = tfidf.fit_transform(parsed_docs)\n",
    "terms = tfidf.get_feature_names()\n",
    "\n",
    "print(\"Created dictionary of \" + str(len(terms)) + \" unique terms\")\n",
    "\n",
    "# Perform dimensionality reduction\n",
    "svd = TruncatedSVD(n_components=100)\n",
    "normalizer = Normalizer(copy=False)\n",
    "lsa = make_pipeline(svd, normalizer)\n",
    "reduced_matrix = lsa.fit_transform(tfidf_matrix)\n",
    "print(len(reduced_matrix))"
   ]
  },
  {
   "cell_type": "code",
   "execution_count": 14,
   "metadata": {},
   "outputs": [
    {
     "data": {
      "text/plain": [
       "[', hand',\n",
       " 'characterize',\n",
       " 'downloads',\n",
       " 'inequality',\n",
       " 'investigation',\n",
       " 'island',\n",
       " 'jordan',\n",
       " 'level',\n",
       " 'men ,',\n",
       " 'party ,',\n",
       " 'photograph',\n",
       " 'project',\n",
       " 'punish',\n",
       " 'storm',\n",
       " 'subtle']"
      ]
     },
     "execution_count": 14,
     "metadata": {},
     "output_type": "execute_result"
    }
   ],
   "source": [
    "import random\n",
    "# Check random sample of terms in TF-IDF matrix\n",
    "[terms[i] for i in sorted(random.sample(range(len(terms)), 15))]"
   ]
  },
  {
   "cell_type": "code",
   "execution_count": 15,
   "metadata": {},
   "outputs": [],
   "source": [
    "# Create lookup dictionary of most heavily-weighted TF-IDF terms for each document\n",
    "npm_tfidf = tfidf_matrix.toarray()\n",
    "vocab_lookup = {v:k for k, v in tfidf.vocabulary_.items()}\n",
    "terms_dict = {}\n",
    "\n",
    "for idx, title in enumerate(titles):\n",
    "    terms_dict[title] = ', '.join(list(reversed([vocab_lookup[i] for i in np.argsort(npm_tfidf[idx])[-30:]])))   "
   ]
  },
  {
   "cell_type": "markdown",
   "metadata": {},
   "source": [
    "### 4.  Cluster Document Vectors"
   ]
  },
  {
   "cell_type": "code",
   "execution_count": 101,
   "metadata": {},
   "outputs": [
    {
     "name": "stdout",
     "output_type": "stream",
     "text": [
      "5.809475019311125\n",
      "Wall time: 255 ms\n"
     ]
    }
   ],
   "source": [
    "%%time\n",
    "from sklearn.cluster import KMeans\n",
    "from sklearn.externals import joblib\n",
    "import math\n",
    "\n",
    "# Configure and train K-means clustering model\n",
    "num_clusters = 30 #specify desired number of clusters\n",
    "km = KMeans(n_clusters=num_clusters) \n",
    "km.fit(reduced_matrix)\n",
    "\n",
    "num_clusters_sqrt2 = (math.sqrt(len(reduced_matrix))/2) #specify desired number of clusters\n",
    "km = KMeans(n_clusters=int(num_clusters_sqrt2)) \n",
    "km.fit(reduced_matrix)\n",
    "\n",
    "print(num_clusters_sqrt2)\n",
    "\n",
    "clusters = km.labels_.tolist() #array of cluster labels that aligns to documents\n",
    "# print(clusters)"
   ]
  },
  {
   "cell_type": "code",
   "execution_count": 102,
   "metadata": {
    "scrolled": true
   },
   "outputs": [
    {
     "data": {
      "text/html": [
       "<div>\n",
       "<style scoped>\n",
       "    .dataframe tbody tr th:only-of-type {\n",
       "        vertical-align: middle;\n",
       "    }\n",
       "\n",
       "    .dataframe tbody tr th {\n",
       "        vertical-align: top;\n",
       "    }\n",
       "\n",
       "    .dataframe thead th {\n",
       "        text-align: right;\n",
       "    }\n",
       "</style>\n",
       "<table border=\"1\" class=\"dataframe\">\n",
       "  <thead>\n",
       "    <tr style=\"text-align: right;\">\n",
       "      <th></th>\n",
       "      <th></th>\n",
       "      <th>title</th>\n",
       "    </tr>\n",
       "    <tr>\n",
       "      <th>source</th>\n",
       "      <th>cluster</th>\n",
       "      <th></th>\n",
       "    </tr>\n",
       "  </thead>\n",
       "  <tbody>\n",
       "    <tr>\n",
       "      <th>3quarksdaily.com</th>\n",
       "      <th>2</th>\n",
       "      <td>1</td>\n",
       "    </tr>\n",
       "    <tr>\n",
       "      <th>ABC News (AU)</th>\n",
       "      <th>3</th>\n",
       "      <td>1</td>\n",
       "    </tr>\n",
       "    <tr>\n",
       "      <th>Alternet.org</th>\n",
       "      <th>1</th>\n",
       "      <td>1</td>\n",
       "    </tr>\n",
       "    <tr>\n",
       "      <th>Avclub.com</th>\n",
       "      <th>1</th>\n",
       "      <td>1</td>\n",
       "    </tr>\n",
       "    <tr>\n",
       "      <th rowspan=\"2\" valign=\"top\">Bigthink.com</th>\n",
       "      <th>0</th>\n",
       "      <td>3</td>\n",
       "    </tr>\n",
       "    <tr>\n",
       "      <th>2</th>\n",
       "      <td>1</td>\n",
       "    </tr>\n",
       "    <tr>\n",
       "      <th>Bradford-delong.com</th>\n",
       "      <th>3</th>\n",
       "      <td>3</td>\n",
       "    </tr>\n",
       "    <tr>\n",
       "      <th rowspan=\"2\" valign=\"top\">Crookedtimber.org</th>\n",
       "      <th>0</th>\n",
       "      <td>1</td>\n",
       "    </tr>\n",
       "    <tr>\n",
       "      <th>1</th>\n",
       "      <td>1</td>\n",
       "    </tr>\n",
       "    <tr>\n",
       "      <th>Deviantart.com</th>\n",
       "      <th>0</th>\n",
       "      <td>1</td>\n",
       "    </tr>\n",
       "    <tr>\n",
       "      <th>Disinfo.com</th>\n",
       "      <th>2</th>\n",
       "      <td>1</td>\n",
       "    </tr>\n",
       "    <tr>\n",
       "      <th>Edge.org</th>\n",
       "      <th>2</th>\n",
       "      <td>1</td>\n",
       "    </tr>\n",
       "    <tr>\n",
       "      <th>Eschatonblog.com</th>\n",
       "      <th>0</th>\n",
       "      <td>1</td>\n",
       "    </tr>\n",
       "    <tr>\n",
       "      <th rowspan=\"2\" valign=\"top\">Freethoughtblogs.com</th>\n",
       "      <th>0</th>\n",
       "      <td>1</td>\n",
       "    </tr>\n",
       "    <tr>\n",
       "      <th>1</th>\n",
       "      <td>2</td>\n",
       "    </tr>\n",
       "    <tr>\n",
       "      <th>Gq.com</th>\n",
       "      <th>2</th>\n",
       "      <td>1</td>\n",
       "    </tr>\n",
       "    <tr>\n",
       "      <th>Hotair.com</th>\n",
       "      <th>1</th>\n",
       "      <td>1</td>\n",
       "    </tr>\n",
       "    <tr>\n",
       "      <th>Hvper.com</th>\n",
       "      <th>4</th>\n",
       "      <td>5</td>\n",
       "    </tr>\n",
       "    <tr>\n",
       "      <th>Indiehackers.com</th>\n",
       "      <th>0</th>\n",
       "      <td>1</td>\n",
       "    </tr>\n",
       "    <tr>\n",
       "      <th>Johnnyjet.com</th>\n",
       "      <th>0</th>\n",
       "      <td>1</td>\n",
       "    </tr>\n",
       "    <tr>\n",
       "      <th>Kotaku.com</th>\n",
       "      <th>2</th>\n",
       "      <td>1</td>\n",
       "    </tr>\n",
       "    <tr>\n",
       "      <th rowspan=\"2\" valign=\"top\">Lawyersgunsmoneyblog.com</th>\n",
       "      <th>1</th>\n",
       "      <td>1</td>\n",
       "    </tr>\n",
       "    <tr>\n",
       "      <th>2</th>\n",
       "      <td>1</td>\n",
       "    </tr>\n",
       "    <tr>\n",
       "      <th>Malaysiakini.com</th>\n",
       "      <th>0</th>\n",
       "      <td>1</td>\n",
       "    </tr>\n",
       "    <tr>\n",
       "      <th>Marginalrevolution.com</th>\n",
       "      <th>0</th>\n",
       "      <td>1</td>\n",
       "    </tr>\n",
       "    <tr>\n",
       "      <th>Mediaite.com</th>\n",
       "      <th>1</th>\n",
       "      <td>1</td>\n",
       "    </tr>\n",
       "    <tr>\n",
       "      <th>Memeorandum.com</th>\n",
       "      <th>0</th>\n",
       "      <td>3</td>\n",
       "    </tr>\n",
       "    <tr>\n",
       "      <th>Metafilter.com</th>\n",
       "      <th>0</th>\n",
       "      <td>3</td>\n",
       "    </tr>\n",
       "    <tr>\n",
       "      <th>Mirumagency.com</th>\n",
       "      <th>3</th>\n",
       "      <td>1</td>\n",
       "    </tr>\n",
       "    <tr>\n",
       "      <th>National Review</th>\n",
       "      <th>0</th>\n",
       "      <td>1</td>\n",
       "    </tr>\n",
       "    <tr>\n",
       "      <th>...</th>\n",
       "      <th>...</th>\n",
       "      <td>...</td>\n",
       "    </tr>\n",
       "    <tr>\n",
       "      <th>Tabletmag.com</th>\n",
       "      <th>2</th>\n",
       "      <td>1</td>\n",
       "    </tr>\n",
       "    <tr>\n",
       "      <th>The American Conservative</th>\n",
       "      <th>2</th>\n",
       "      <td>1</td>\n",
       "    </tr>\n",
       "    <tr>\n",
       "      <th rowspan=\"2\" valign=\"top\">The Guardian (AU)</th>\n",
       "      <th>0</th>\n",
       "      <td>4</td>\n",
       "    </tr>\n",
       "    <tr>\n",
       "      <th>2</th>\n",
       "      <td>2</td>\n",
       "    </tr>\n",
       "    <tr>\n",
       "      <th>The New York Times</th>\n",
       "      <th>2</th>\n",
       "      <td>1</td>\n",
       "    </tr>\n",
       "    <tr>\n",
       "      <th>The Next Web</th>\n",
       "      <th>2</th>\n",
       "      <td>1</td>\n",
       "    </tr>\n",
       "    <tr>\n",
       "      <th>The Telegraph</th>\n",
       "      <th>0</th>\n",
       "      <td>1</td>\n",
       "    </tr>\n",
       "    <tr>\n",
       "      <th>The Wall Street Journal</th>\n",
       "      <th>2</th>\n",
       "      <td>1</td>\n",
       "    </tr>\n",
       "    <tr>\n",
       "      <th rowspan=\"2\" valign=\"top\">Theatlantic.com</th>\n",
       "      <th>0</th>\n",
       "      <td>1</td>\n",
       "    </tr>\n",
       "    <tr>\n",
       "      <th>2</th>\n",
       "      <td>2</td>\n",
       "    </tr>\n",
       "    <tr>\n",
       "      <th>Thedailybeast.com</th>\n",
       "      <th>2</th>\n",
       "      <td>1</td>\n",
       "    </tr>\n",
       "    <tr>\n",
       "      <th rowspan=\"3\" valign=\"top\">Thefederalist.com</th>\n",
       "      <th>1</th>\n",
       "      <td>1</td>\n",
       "    </tr>\n",
       "    <tr>\n",
       "      <th>2</th>\n",
       "      <td>1</td>\n",
       "    </tr>\n",
       "    <tr>\n",
       "      <th>3</th>\n",
       "      <td>1</td>\n",
       "    </tr>\n",
       "    <tr>\n",
       "      <th>Thegospelcoalition.org</th>\n",
       "      <th>2</th>\n",
       "      <td>2</td>\n",
       "    </tr>\n",
       "    <tr>\n",
       "      <th>Thenation.com</th>\n",
       "      <th>2</th>\n",
       "      <td>1</td>\n",
       "    </tr>\n",
       "    <tr>\n",
       "      <th>Theoutline.com</th>\n",
       "      <th>2</th>\n",
       "      <td>1</td>\n",
       "    </tr>\n",
       "    <tr>\n",
       "      <th>Thestranger.com</th>\n",
       "      <th>1</th>\n",
       "      <td>1</td>\n",
       "    </tr>\n",
       "    <tr>\n",
       "      <th>Thewrap.com</th>\n",
       "      <th>2</th>\n",
       "      <td>1</td>\n",
       "    </tr>\n",
       "    <tr>\n",
       "      <th>Tim.blog</th>\n",
       "      <th>0</th>\n",
       "      <td>1</td>\n",
       "    </tr>\n",
       "    <tr>\n",
       "      <th>Vanityfair.com</th>\n",
       "      <th>2</th>\n",
       "      <td>1</td>\n",
       "    </tr>\n",
       "    <tr>\n",
       "      <th rowspan=\"2\" valign=\"top\">Vice News</th>\n",
       "      <th>0</th>\n",
       "      <td>1</td>\n",
       "    </tr>\n",
       "    <tr>\n",
       "      <th>2</th>\n",
       "      <td>1</td>\n",
       "    </tr>\n",
       "    <tr>\n",
       "      <th>Vimeo.com</th>\n",
       "      <th>3</th>\n",
       "      <td>1</td>\n",
       "    </tr>\n",
       "    <tr>\n",
       "      <th rowspan=\"3\" valign=\"top\">Vox.com</th>\n",
       "      <th>1</th>\n",
       "      <td>1</td>\n",
       "    </tr>\n",
       "    <tr>\n",
       "      <th>2</th>\n",
       "      <td>4</td>\n",
       "    </tr>\n",
       "    <tr>\n",
       "      <th>3</th>\n",
       "      <td>2</td>\n",
       "    </tr>\n",
       "    <tr>\n",
       "      <th>Weeklystandard.com</th>\n",
       "      <th>1</th>\n",
       "      <td>1</td>\n",
       "    </tr>\n",
       "    <tr>\n",
       "      <th rowspan=\"2\" valign=\"top\">Wordpress.com</th>\n",
       "      <th>1</th>\n",
       "      <td>2</td>\n",
       "    </tr>\n",
       "    <tr>\n",
       "      <th>2</th>\n",
       "      <td>7</td>\n",
       "    </tr>\n",
       "  </tbody>\n",
       "</table>\n",
       "<p>83 rows × 1 columns</p>\n",
       "</div>"
      ],
      "text/plain": [
       "                                   title\n",
       "source                    cluster       \n",
       "3quarksdaily.com          2            1\n",
       "ABC News (AU)             3            1\n",
       "Alternet.org              1            1\n",
       "Avclub.com                1            1\n",
       "Bigthink.com              0            3\n",
       "                          2            1\n",
       "Bradford-delong.com       3            3\n",
       "Crookedtimber.org         0            1\n",
       "                          1            1\n",
       "Deviantart.com            0            1\n",
       "Disinfo.com               2            1\n",
       "Edge.org                  2            1\n",
       "Eschatonblog.com          0            1\n",
       "Freethoughtblogs.com      0            1\n",
       "                          1            2\n",
       "Gq.com                    2            1\n",
       "Hotair.com                1            1\n",
       "Hvper.com                 4            5\n",
       "Indiehackers.com          0            1\n",
       "Johnnyjet.com             0            1\n",
       "Kotaku.com                2            1\n",
       "Lawyersgunsmoneyblog.com  1            1\n",
       "                          2            1\n",
       "Malaysiakini.com          0            1\n",
       "Marginalrevolution.com    0            1\n",
       "Mediaite.com              1            1\n",
       "Memeorandum.com           0            3\n",
       "Metafilter.com            0            3\n",
       "Mirumagency.com           3            1\n",
       "National Review           0            1\n",
       "...                                  ...\n",
       "Tabletmag.com             2            1\n",
       "The American Conservative 2            1\n",
       "The Guardian (AU)         0            4\n",
       "                          2            2\n",
       "The New York Times        2            1\n",
       "The Next Web              2            1\n",
       "The Telegraph             0            1\n",
       "The Wall Street Journal   2            1\n",
       "Theatlantic.com           0            1\n",
       "                          2            2\n",
       "Thedailybeast.com         2            1\n",
       "Thefederalist.com         1            1\n",
       "                          2            1\n",
       "                          3            1\n",
       "Thegospelcoalition.org    2            2\n",
       "Thenation.com             2            1\n",
       "Theoutline.com            2            1\n",
       "Thestranger.com           1            1\n",
       "Thewrap.com               2            1\n",
       "Tim.blog                  0            1\n",
       "Vanityfair.com            2            1\n",
       "Vice News                 0            1\n",
       "                          2            1\n",
       "Vimeo.com                 3            1\n",
       "Vox.com                   1            1\n",
       "                          2            4\n",
       "                          3            2\n",
       "Weeklystandard.com        1            1\n",
       "Wordpress.com             1            2\n",
       "                          2            7\n",
       "\n",
       "[83 rows x 1 columns]"
      ]
     },
     "execution_count": 102,
     "metadata": {},
     "output_type": "execute_result"
    }
   ],
   "source": [
    "import pandas as pd\n",
    "\n",
    "# Produce DataFrame of documents along with assigned cluster\n",
    "products = { 'title': titles,'source':source,'text': parsed_docs, 'cluster': clusters, 'url': url,'author':author,'description':description,'date':date}\n",
    "cluster_df = pd.DataFrame(products, index = [clusters] , columns = ['source','title', 'text', 'cluster', 'url','author','description','date'])\n",
    "\n",
    "# Produce cluster summary tables\n",
    "producer_clusters = cluster_df.groupby(['source', 'cluster'])\n",
    "cluster_count = producer_clusters.agg({'title':'count'})\n",
    "cluster_pct = cluster_count.groupby(level=0).apply(lambda x: 100 * x / x.sum())\n",
    "\n",
    "cluster_count #count of products in each cluster, by producer"
   ]
  },
  {
   "cell_type": "code",
   "execution_count": 103,
   "metadata": {
    "scrolled": true
   },
   "outputs": [
    {
     "name": "stdout",
     "output_type": "stream",
     "text": [
      "Cluster 0 words:\n",
      "['–', ')', '(', 'data', 'god', 'favorite', 'atheism', 'people', \"''\", 'bat', '“', '—', 'podcast', 'religion', 'new', '”', 'bank', 'ai', 'world', 'reason']\n",
      "Cluster 1 words:\n",
      "['”', '“', 'weiss', 'intellectual', 'web', 'dark', 'dark web', 'people', 'say', 'intellectual dark', 'idw', \"'s\", 'weinstein', '``', \"''\", 'medium', 'time', 'peterson', 'shapiro', 'like']\n",
      "Cluster 2 words:\n",
      "['”', '“', ', ’', ')', '. ’', '(', 'atheist', '—', '?', 'say', 'people', 'like', 'murray', ', ”', 'make', '. “', 'know', 'think', ';', ', “']\n",
      "Cluster 3 words:\n",
      "['...', '... .', '``', 'klein', \"''\", \"'s\", 'link', 'frank', 'conversation', 'ezra', 'think', 'ezra klein', ')', 'anderson', 'podcast', 'trump', 'intelligence', 'murray', 'vox', 'klein :']\n",
      "Cluster 4 words:\n",
      "['pokmon', 'pokmon ,', 'niantic', 'annual rhythm', \"appear 's\", 'sense annual', \"niantic 're\", 'start sense', 'time water', 'come ...', 'water festival', ', niantic', ', kyogre', 'rhythm pokmon', \"'re start\", 'kyogre ,', 'kyogre', 'rhythm', \"'s time\", 'festival ,']\n",
      "Cluster 5 words:\n"
     ]
    },
    {
     "ename": "IndexError",
     "evalue": "list index out of range",
     "output_type": "error",
     "traceback": [
      "\u001b[1;31m---------------------------------------------------------------------------\u001b[0m",
      "\u001b[1;31mIndexError\u001b[0m                                Traceback (most recent call last)",
      "\u001b[1;32m<ipython-input-103-279677ca1c60>\u001b[0m in \u001b[0;36m<module>\u001b[1;34m()\u001b[0m\n\u001b[0;32m      8\u001b[0m \u001b[1;32mfor\u001b[0m \u001b[0mi\u001b[0m \u001b[1;32min\u001b[0m \u001b[0mrange\u001b[0m\u001b[1;33m(\u001b[0m\u001b[0mnum_clusters\u001b[0m\u001b[1;33m)\u001b[0m\u001b[1;33m:\u001b[0m\u001b[1;33m\u001b[0m\u001b[0m\n\u001b[0;32m      9\u001b[0m     \u001b[0mprint\u001b[0m\u001b[1;33m(\u001b[0m\u001b[1;34m\"Cluster %d words:\"\u001b[0m \u001b[1;33m%\u001b[0m \u001b[0mi\u001b[0m\u001b[1;33m,\u001b[0m \u001b[0mend\u001b[0m\u001b[1;33m=\u001b[0m\u001b[1;34m'\\n'\u001b[0m\u001b[1;33m)\u001b[0m\u001b[1;33m\u001b[0m\u001b[0m\n\u001b[1;32m---> 10\u001b[1;33m     \u001b[0mprint\u001b[0m\u001b[1;33m(\u001b[0m\u001b[0mcluster_terms\u001b[0m\u001b[1;33m[\u001b[0m\u001b[0mi\u001b[0m\u001b[1;33m]\u001b[0m\u001b[1;33m)\u001b[0m\u001b[1;33m\u001b[0m\u001b[0m\n\u001b[0m\u001b[0;32m     11\u001b[0m \u001b[1;33m\u001b[0m\u001b[0m\n\u001b[0;32m     12\u001b[0m \u001b[0mlabeled_clusters\u001b[0m \u001b[1;33m=\u001b[0m \u001b[1;33m[\u001b[0m\u001b[0mcluster_terms\u001b[0m\u001b[1;33m[\u001b[0m\u001b[0mi\u001b[0m\u001b[1;33m]\u001b[0m \u001b[1;32mfor\u001b[0m \u001b[0mi\u001b[0m \u001b[1;32min\u001b[0m \u001b[0mclusters\u001b[0m\u001b[1;33m]\u001b[0m\u001b[1;33m\u001b[0m\u001b[0m\n",
      "\u001b[1;31mIndexError\u001b[0m: list index out of range"
     ]
    }
   ],
   "source": [
    "weights = np.dot(km.cluster_centers_, svd.components_)\n",
    "weights = np.abs(weights)\n",
    "cluster_terms = []\n",
    "for i in range(km.n_clusters):\n",
    "    top20 = np.argsort(weights[i])[-20:]\n",
    "    cluster_terms.append(list(reversed([terms[j] for j in top20])))\n",
    "    \n",
    "for i in range(num_clusters):\n",
    "    print(\"Cluster %d words:\" % i, end='\\n')\n",
    "    print(cluster_terms[i])\n",
    "    \n",
    "labeled_clusters = [cluster_terms[i] for i in clusters]\n"
   ]
  },
  {
   "cell_type": "markdown",
   "metadata": {},
   "source": [
    "### 5.  Visualize Document Vectors and Clusters"
   ]
  },
  {
   "cell_type": "code",
   "execution_count": 104,
   "metadata": {
    "scrolled": true
   },
   "outputs": [
    {
     "name": "stdout",
     "output_type": "stream",
     "text": [
      "Wall time: 2.76 s\n"
     ]
    }
   ],
   "source": [
    "%%time\n",
    "\n",
    "from sklearn.manifold import TSNE\n",
    "\n",
    "# Conduct t-SNE to reduce TF-IDF vectors to 2 dimensions while preserving relative distances between document vectors\n",
    "tsne = TSNE(n_components=2)\n",
    "pos = tsne.fit_transform(reduced_matrix)\n",
    "xs, ys = pos[:, 0], pos[:, 1]\n",
    "\n",
    "# Put all product data into a single Pandas dataframe\n",
    "vis_df = pd.DataFrame(dict(x=xs, y=ys, label=labeled_clusters, title=titles,author=author,description=description,date=date,source=source,url=url))\n",
    "vis_df['terms'] = vis_df['title'].map(terms_dict)"
   ]
  },
  {
   "cell_type": "code",
   "execution_count": 105,
   "metadata": {},
   "outputs": [
    {
     "data": {
      "text/plain": [
       "0      [israeli, palestinian, ”, “, metaphor, useful,...\n",
       "1      [”, “, ), (, —, . “, trump, . ’, , ’, say, adv...\n",
       "2      [robot, pain, sean illing, illing, machine, fe...\n",
       "3      [”, “, ), (, —, . “, trump, . ’, , ’, say, adv...\n",
       "4      ['s, '', ``, n't, people, idw, weiss, weinstei...\n",
       "5      [”, “, ), (, —, . “, trump, . ’, , ’, say, adv...\n",
       "6      [”, “, ), (, ai, religion, science, reich, ?, ...\n",
       "7      ['s, '', ``, n't, people, idw, weiss, weinstei...\n",
       "8      [”, “, ), (, —, . “, trump, . ’, , ’, say, adv...\n",
       "9      [atheism, ), (, god, ) ,, religion, . [, world...\n",
       "10     [atheist, atheism, spencer, cult, ”, alt-right...\n",
       "11     [nawaz, muslim, islam, ”, “, islamophobia, ali...\n",
       "12     [atheism, ), (, god, ) ,, religion, . [, world...\n",
       "13     [”, “, weiss, rubin, intellectual, dark web, w...\n",
       "14     [israeli, palestinian, ”, “, metaphor, useful,...\n",
       "15     [”, “, ), (, —, . “, trump, . ’, , ’, say, adv...\n",
       "16     [murray, “, ”, anderson, genetic, intelligence...\n",
       "17     [robot, pain, sean illing, illing, machine, fe...\n",
       "18     [robot, pain, sean illing, illing, machine, fe...\n",
       "19     [robot, pain, sean illing, illing, machine, fe...\n",
       "20     [”, “, weiss, rubin, intellectual, dark web, w...\n",
       "21     [murray, “, ”, anderson, genetic, intelligence...\n",
       "22     [”, “, ), (, —, . “, trump, . ’, , ’, say, adv...\n",
       "23     [–, ”, “, transgender, bat, . ’, people, good,...\n",
       "24     [–, ”, “, transgender, bat, . ’, people, good,...\n",
       "25     [favorite, frank, travel, jeff, violence ,, su...\n",
       "26     [klein, murray, ”, “, intelligence, genetic, b...\n",
       "27     [”, “, ), (, ai, religion, science, reich, ?, ...\n",
       "28     [atheist, atheism, spencer, cult, ”, alt-right...\n",
       "29     [people, environment, crime, punish, deserve, ...\n",
       "                             ...                        \n",
       "105    [”, “, ), (, ai, religion, science, reich, ?, ...\n",
       "106    [atheist, atheism, spencer, cult, ”, alt-right...\n",
       "107    ['s, '', ``, n't, people, idw, weiss, weinstei...\n",
       "108    [atheism, ), (, god, ) ,, religion, . [, world...\n",
       "109    [”, “, ), (, ai, religion, science, reich, ?, ...\n",
       "110    [”, “, ), (, ai, religion, science, reich, ?, ...\n",
       "111    [”, “, ), (, ai, religion, science, reich, ?, ...\n",
       "112    [”, “, ), (, —, . “, trump, . ’, , ’, say, adv...\n",
       "113    ['s, '', ``, n't, people, idw, weiss, weinstei...\n",
       "114    [”, “, kanye, west, freedom, advertisement, co...\n",
       "115    [nawaz, muslim, islam, ”, “, islamophobia, ali...\n",
       "116    [link, window, check, open, new, share, week, ...\n",
       "117    [say, ”, “, mr., force woman, harris say, mr. ...\n",
       "118    [israeli, palestinian, ”, “, metaphor, useful,...\n",
       "119    [murray, “, ”, anderson, genetic, intelligence...\n",
       "120    [”, “, ), (, —, . “, trump, . ’, , ’, say, adv...\n",
       "121    [murray, “, ”, anderson, genetic, intelligence...\n",
       "122    [murray, “, ”, anderson, genetic, intelligence...\n",
       "123    [krauss, gay, , ’, ’ ’, woman, metoo, blog, at...\n",
       "124    ['s, '', ``, n't, people, idw, weiss, weinstei...\n",
       "125    ['s, '', ``, n't, people, idw, weiss, weinstei...\n",
       "126    [klein, murray, ”, “, intelligence, genetic, b...\n",
       "127    [”, “, kanye, west, freedom, advertisement, co...\n",
       "128    [”, “, weiss, rubin, intellectual, dark web, w...\n",
       "129    [nawaz, muslim, islam, ”, “, islamophobia, ali...\n",
       "130    [”, “, weiss, rubin, intellectual, dark web, w...\n",
       "131    [data, statement, '', , legal, data ., 1., dev...\n",
       "132    [god, religion, atheist, ”, “, church, love, s...\n",
       "133    [podcast, . —, iq, podcast ,, —, host, iq ., p...\n",
       "134    [data, statement, '', , legal, data ., 1., dev...\n",
       "Name: label, Length: 135, dtype: object"
      ]
     },
     "execution_count": 105,
     "metadata": {},
     "output_type": "execute_result"
    }
   ],
   "source": [
    "vis_df.label"
   ]
  },
  {
   "cell_type": "code",
   "execution_count": 106,
   "metadata": {
    "scrolled": false
   },
   "outputs": [
    {
     "name": "stderr",
     "output_type": "stream",
     "text": [
      "C:\\Users\\589636\\AppData\\Local\\Continuum\\anaconda3\\lib\\site-packages\\xlsxwriter\\worksheet.py:830: UserWarning: Ignoring URL 'http://sixpixels.mirumagency.com/blog/archives/six-links-worthy-of-your-attention-409/?utm_source=feedburner&utm_medium=feed&utm_campaign=Feed%3A+TwistImage+%28Six+Pixels+of+Separation+-+Marketing+and+Communications+Insights+Blog+-+Mitch+Joel+-+Twist+Image%29' with link or location/anchor > 255 characters since it exceeds Excel's limit for URLS\n",
      "  force_unicode(url))\n"
     ]
    }
   ],
   "source": [
    "# Save document dataframe to Excel\n",
    "out_path=lsapath+'\\\\'+theme+'_'+'results.xlsx'\n",
    "writer = pd.ExcelWriter(out_path)\n",
    "vis_df.to_excel(writer, 'products')\n",
    "writer.save()"
   ]
  },
  {
   "cell_type": "code",
   "execution_count": 98,
   "metadata": {},
   "outputs": [
    {
     "ename": "TypeError",
     "evalue": "unhashable type: 'list'",
     "output_type": "error",
     "traceback": [
      "\u001b[1;31m---------------------------------------------------------------------------\u001b[0m",
      "\u001b[1;31mAttributeError\u001b[0m                            Traceback (most recent call last)",
      "\u001b[1;32mC:\\Users\\589636\\AppData\\Local\\Continuum\\anaconda3\\lib\\site-packages\\seaborn\\utils.py\u001b[0m in \u001b[0;36mcategorical_order\u001b[1;34m(values, order)\u001b[0m\n\u001b[0;32m    507\u001b[0m             \u001b[1;32mtry\u001b[0m\u001b[1;33m:\u001b[0m\u001b[1;33m\u001b[0m\u001b[0m\n\u001b[1;32m--> 508\u001b[1;33m                 \u001b[0morder\u001b[0m \u001b[1;33m=\u001b[0m \u001b[0mvalues\u001b[0m\u001b[1;33m.\u001b[0m\u001b[0mcat\u001b[0m\u001b[1;33m.\u001b[0m\u001b[0mcategories\u001b[0m\u001b[1;33m\u001b[0m\u001b[0m\n\u001b[0m\u001b[0;32m    509\u001b[0m             \u001b[1;32mexcept\u001b[0m \u001b[1;33m(\u001b[0m\u001b[0mTypeError\u001b[0m\u001b[1;33m,\u001b[0m \u001b[0mAttributeError\u001b[0m\u001b[1;33m)\u001b[0m\u001b[1;33m:\u001b[0m\u001b[1;33m\u001b[0m\u001b[0m\n",
      "\u001b[1;32mC:\\Users\\589636\\AppData\\Local\\Continuum\\anaconda3\\lib\\site-packages\\pandas\\core\\generic.py\u001b[0m in \u001b[0;36m__getattr__\u001b[1;34m(self, name)\u001b[0m\n\u001b[0;32m   3609\u001b[0m                 name in self._accessors):\n\u001b[1;32m-> 3610\u001b[1;33m             \u001b[1;32mreturn\u001b[0m \u001b[0mobject\u001b[0m\u001b[1;33m.\u001b[0m\u001b[0m__getattribute__\u001b[0m\u001b[1;33m(\u001b[0m\u001b[0mself\u001b[0m\u001b[1;33m,\u001b[0m \u001b[0mname\u001b[0m\u001b[1;33m)\u001b[0m\u001b[1;33m\u001b[0m\u001b[0m\n\u001b[0m\u001b[0;32m   3611\u001b[0m         \u001b[1;32melse\u001b[0m\u001b[1;33m:\u001b[0m\u001b[1;33m\u001b[0m\u001b[0m\n",
      "\u001b[1;32mC:\\Users\\589636\\AppData\\Local\\Continuum\\anaconda3\\lib\\site-packages\\pandas\\core\\accessor.py\u001b[0m in \u001b[0;36m__get__\u001b[1;34m(self, instance, owner)\u001b[0m\n\u001b[0;32m     53\u001b[0m             \u001b[1;32mreturn\u001b[0m \u001b[0mself\u001b[0m\u001b[1;33m.\u001b[0m\u001b[0maccessor_cls\u001b[0m\u001b[1;33m\u001b[0m\u001b[0m\n\u001b[1;32m---> 54\u001b[1;33m         \u001b[1;32mreturn\u001b[0m \u001b[0mself\u001b[0m\u001b[1;33m.\u001b[0m\u001b[0mconstruct_accessor\u001b[0m\u001b[1;33m(\u001b[0m\u001b[0minstance\u001b[0m\u001b[1;33m)\u001b[0m\u001b[1;33m\u001b[0m\u001b[0m\n\u001b[0m\u001b[0;32m     55\u001b[0m \u001b[1;33m\u001b[0m\u001b[0m\n",
      "\u001b[1;32mC:\\Users\\589636\\AppData\\Local\\Continuum\\anaconda3\\lib\\site-packages\\pandas\\core\\categorical.py\u001b[0m in \u001b[0;36m_make_accessor\u001b[1;34m(cls, data)\u001b[0m\n\u001b[0;32m   2210\u001b[0m         \u001b[1;32mif\u001b[0m \u001b[1;32mnot\u001b[0m \u001b[0mis_categorical_dtype\u001b[0m\u001b[1;33m(\u001b[0m\u001b[0mdata\u001b[0m\u001b[1;33m.\u001b[0m\u001b[0mdtype\u001b[0m\u001b[1;33m)\u001b[0m\u001b[1;33m:\u001b[0m\u001b[1;33m\u001b[0m\u001b[0m\n\u001b[1;32m-> 2211\u001b[1;33m             raise AttributeError(\"Can only use .cat accessor with a \"\n\u001b[0m\u001b[0;32m   2212\u001b[0m                                  \"'category' dtype\")\n",
      "\u001b[1;31mAttributeError\u001b[0m: Can only use .cat accessor with a 'category' dtype",
      "\nDuring handling of the above exception, another exception occurred:\n",
      "\u001b[1;31mTypeError\u001b[0m                                 Traceback (most recent call last)",
      "\u001b[1;32m<ipython-input-98-397ac7a68145>\u001b[0m in \u001b[0;36m<module>\u001b[1;34m()\u001b[0m\n\u001b[0;32m     12\u001b[0m \u001b[0my\u001b[0m \u001b[1;33m=\u001b[0m \u001b[0mvis_df\u001b[0m\u001b[1;33m.\u001b[0m\u001b[0my\u001b[0m\u001b[1;33m\u001b[0m\u001b[0m\n\u001b[0;32m     13\u001b[0m \u001b[0msns\u001b[0m\u001b[1;33m.\u001b[0m\u001b[0mjointplot\u001b[0m\u001b[1;33m(\u001b[0m\u001b[0mx\u001b[0m\u001b[1;33m,\u001b[0m \u001b[0my\u001b[0m\u001b[1;33m,\u001b[0m \u001b[0msize\u001b[0m\u001b[1;33m=\u001b[0m\u001b[1;36m4\u001b[0m\u001b[1;33m,\u001b[0m\u001b[0mkind\u001b[0m\u001b[1;33m=\u001b[0m\u001b[1;34m\"hex\"\u001b[0m\u001b[1;33m)\u001b[0m\u001b[1;33m\u001b[0m\u001b[0m\n\u001b[1;32m---> 14\u001b[1;33m \u001b[0mfg\u001b[0m \u001b[1;33m=\u001b[0m \u001b[0msns\u001b[0m\u001b[1;33m.\u001b[0m\u001b[0mFacetGrid\u001b[0m\u001b[1;33m(\u001b[0m\u001b[0mdata\u001b[0m\u001b[1;33m=\u001b[0m\u001b[0mvis_df\u001b[0m\u001b[1;33m,\u001b[0m \u001b[0mhue\u001b[0m\u001b[1;33m=\u001b[0m\u001b[1;34m'label'\u001b[0m\u001b[1;33m)\u001b[0m\u001b[1;33m\u001b[0m\u001b[0m\n\u001b[0m\u001b[0;32m     15\u001b[0m \u001b[1;31m# fg.map(pyplot.scatter).add_legend()\u001b[0m\u001b[1;33m\u001b[0m\u001b[1;33m\u001b[0m\u001b[0m\n\u001b[0;32m     16\u001b[0m \u001b[1;33m\u001b[0m\u001b[0m\n",
      "\u001b[1;32mC:\\Users\\589636\\AppData\\Local\\Continuum\\anaconda3\\lib\\site-packages\\seaborn\\axisgrid.py\u001b[0m in \u001b[0;36m__init__\u001b[1;34m(self, data, row, col, hue, col_wrap, sharex, sharey, size, aspect, palette, row_order, col_order, hue_order, hue_kws, dropna, legend_out, despine, margin_titles, xlim, ylim, subplot_kws, gridspec_kws)\u001b[0m\n\u001b[0;32m    235\u001b[0m             \u001b[0mhue_names\u001b[0m \u001b[1;33m=\u001b[0m \u001b[1;32mNone\u001b[0m\u001b[1;33m\u001b[0m\u001b[0m\n\u001b[0;32m    236\u001b[0m         \u001b[1;32melse\u001b[0m\u001b[1;33m:\u001b[0m\u001b[1;33m\u001b[0m\u001b[0m\n\u001b[1;32m--> 237\u001b[1;33m             \u001b[0mhue_names\u001b[0m \u001b[1;33m=\u001b[0m \u001b[0mutils\u001b[0m\u001b[1;33m.\u001b[0m\u001b[0mcategorical_order\u001b[0m\u001b[1;33m(\u001b[0m\u001b[0mdata\u001b[0m\u001b[1;33m[\u001b[0m\u001b[0mhue\u001b[0m\u001b[1;33m]\u001b[0m\u001b[1;33m,\u001b[0m \u001b[0mhue_order\u001b[0m\u001b[1;33m)\u001b[0m\u001b[1;33m\u001b[0m\u001b[0m\n\u001b[0m\u001b[0;32m    238\u001b[0m \u001b[1;33m\u001b[0m\u001b[0m\n\u001b[0;32m    239\u001b[0m         \u001b[0mcolors\u001b[0m \u001b[1;33m=\u001b[0m \u001b[0mself\u001b[0m\u001b[1;33m.\u001b[0m\u001b[0m_get_palette\u001b[0m\u001b[1;33m(\u001b[0m\u001b[0mdata\u001b[0m\u001b[1;33m,\u001b[0m \u001b[0mhue\u001b[0m\u001b[1;33m,\u001b[0m \u001b[0mhue_order\u001b[0m\u001b[1;33m,\u001b[0m \u001b[0mpalette\u001b[0m\u001b[1;33m)\u001b[0m\u001b[1;33m\u001b[0m\u001b[0m\n",
      "\u001b[1;32mC:\\Users\\589636\\AppData\\Local\\Continuum\\anaconda3\\lib\\site-packages\\seaborn\\utils.py\u001b[0m in \u001b[0;36mcategorical_order\u001b[1;34m(values, order)\u001b[0m\n\u001b[0;32m    509\u001b[0m             \u001b[1;32mexcept\u001b[0m \u001b[1;33m(\u001b[0m\u001b[0mTypeError\u001b[0m\u001b[1;33m,\u001b[0m \u001b[0mAttributeError\u001b[0m\u001b[1;33m)\u001b[0m\u001b[1;33m:\u001b[0m\u001b[1;33m\u001b[0m\u001b[0m\n\u001b[0;32m    510\u001b[0m                 \u001b[1;32mtry\u001b[0m\u001b[1;33m:\u001b[0m\u001b[1;33m\u001b[0m\u001b[0m\n\u001b[1;32m--> 511\u001b[1;33m                     \u001b[0morder\u001b[0m \u001b[1;33m=\u001b[0m \u001b[0mvalues\u001b[0m\u001b[1;33m.\u001b[0m\u001b[0munique\u001b[0m\u001b[1;33m(\u001b[0m\u001b[1;33m)\u001b[0m\u001b[1;33m\u001b[0m\u001b[0m\n\u001b[0m\u001b[0;32m    512\u001b[0m                 \u001b[1;32mexcept\u001b[0m \u001b[0mAttributeError\u001b[0m\u001b[1;33m:\u001b[0m\u001b[1;33m\u001b[0m\u001b[0m\n\u001b[0;32m    513\u001b[0m                     \u001b[0morder\u001b[0m \u001b[1;33m=\u001b[0m \u001b[0mpd\u001b[0m\u001b[1;33m.\u001b[0m\u001b[0munique\u001b[0m\u001b[1;33m(\u001b[0m\u001b[0mvalues\u001b[0m\u001b[1;33m)\u001b[0m\u001b[1;33m\u001b[0m\u001b[0m\n",
      "\u001b[1;32mC:\\Users\\589636\\AppData\\Local\\Continuum\\anaconda3\\lib\\site-packages\\pandas\\core\\series.py\u001b[0m in \u001b[0;36munique\u001b[1;34m(self)\u001b[0m\n\u001b[0;32m   1281\u001b[0m     \u001b[1;33m@\u001b[0m\u001b[0mAppender\u001b[0m\u001b[1;33m(\u001b[0m\u001b[0mbase\u001b[0m\u001b[1;33m.\u001b[0m\u001b[0m_shared_docs\u001b[0m\u001b[1;33m[\u001b[0m\u001b[1;34m'unique'\u001b[0m\u001b[1;33m]\u001b[0m \u001b[1;33m%\u001b[0m \u001b[0m_shared_doc_kwargs\u001b[0m\u001b[1;33m)\u001b[0m\u001b[1;33m\u001b[0m\u001b[0m\n\u001b[0;32m   1282\u001b[0m     \u001b[1;32mdef\u001b[0m \u001b[0munique\u001b[0m\u001b[1;33m(\u001b[0m\u001b[0mself\u001b[0m\u001b[1;33m)\u001b[0m\u001b[1;33m:\u001b[0m\u001b[1;33m\u001b[0m\u001b[0m\n\u001b[1;32m-> 1283\u001b[1;33m         \u001b[0mresult\u001b[0m \u001b[1;33m=\u001b[0m \u001b[0msuper\u001b[0m\u001b[1;33m(\u001b[0m\u001b[0mSeries\u001b[0m\u001b[1;33m,\u001b[0m \u001b[0mself\u001b[0m\u001b[1;33m)\u001b[0m\u001b[1;33m.\u001b[0m\u001b[0munique\u001b[0m\u001b[1;33m(\u001b[0m\u001b[1;33m)\u001b[0m\u001b[1;33m\u001b[0m\u001b[0m\n\u001b[0m\u001b[0;32m   1284\u001b[0m \u001b[1;33m\u001b[0m\u001b[0m\n\u001b[0;32m   1285\u001b[0m         \u001b[1;32mif\u001b[0m \u001b[0mis_datetime64tz_dtype\u001b[0m\u001b[1;33m(\u001b[0m\u001b[0mself\u001b[0m\u001b[1;33m.\u001b[0m\u001b[0mdtype\u001b[0m\u001b[1;33m)\u001b[0m\u001b[1;33m:\u001b[0m\u001b[1;33m\u001b[0m\u001b[0m\n",
      "\u001b[1;32mC:\\Users\\589636\\AppData\\Local\\Continuum\\anaconda3\\lib\\site-packages\\pandas\\core\\base.py\u001b[0m in \u001b[0;36munique\u001b[1;34m(self)\u001b[0m\n\u001b[0;32m    903\u001b[0m         \u001b[1;32melse\u001b[0m\u001b[1;33m:\u001b[0m\u001b[1;33m\u001b[0m\u001b[0m\n\u001b[0;32m    904\u001b[0m             \u001b[1;32mfrom\u001b[0m \u001b[0mpandas\u001b[0m\u001b[1;33m.\u001b[0m\u001b[0mcore\u001b[0m\u001b[1;33m.\u001b[0m\u001b[0malgorithms\u001b[0m \u001b[1;32mimport\u001b[0m \u001b[0munique1d\u001b[0m\u001b[1;33m\u001b[0m\u001b[0m\n\u001b[1;32m--> 905\u001b[1;33m             \u001b[0mresult\u001b[0m \u001b[1;33m=\u001b[0m \u001b[0munique1d\u001b[0m\u001b[1;33m(\u001b[0m\u001b[0mvalues\u001b[0m\u001b[1;33m)\u001b[0m\u001b[1;33m\u001b[0m\u001b[0m\n\u001b[0m\u001b[0;32m    906\u001b[0m \u001b[1;33m\u001b[0m\u001b[0m\n\u001b[0;32m    907\u001b[0m         \u001b[1;32mreturn\u001b[0m \u001b[0mresult\u001b[0m\u001b[1;33m\u001b[0m\u001b[0m\n",
      "\u001b[1;32mC:\\Users\\589636\\AppData\\Local\\Continuum\\anaconda3\\lib\\site-packages\\pandas\\core\\algorithms.py\u001b[0m in \u001b[0;36munique\u001b[1;34m(values)\u001b[0m\n\u001b[0;32m    362\u001b[0m \u001b[1;33m\u001b[0m\u001b[0m\n\u001b[0;32m    363\u001b[0m     \u001b[0mtable\u001b[0m \u001b[1;33m=\u001b[0m \u001b[0mhtable\u001b[0m\u001b[1;33m(\u001b[0m\u001b[0mlen\u001b[0m\u001b[1;33m(\u001b[0m\u001b[0mvalues\u001b[0m\u001b[1;33m)\u001b[0m\u001b[1;33m)\u001b[0m\u001b[1;33m\u001b[0m\u001b[0m\n\u001b[1;32m--> 364\u001b[1;33m     \u001b[0muniques\u001b[0m \u001b[1;33m=\u001b[0m \u001b[0mtable\u001b[0m\u001b[1;33m.\u001b[0m\u001b[0munique\u001b[0m\u001b[1;33m(\u001b[0m\u001b[0mvalues\u001b[0m\u001b[1;33m)\u001b[0m\u001b[1;33m\u001b[0m\u001b[0m\n\u001b[0m\u001b[0;32m    365\u001b[0m     \u001b[0muniques\u001b[0m \u001b[1;33m=\u001b[0m \u001b[0m_reconstruct_data\u001b[0m\u001b[1;33m(\u001b[0m\u001b[0muniques\u001b[0m\u001b[1;33m,\u001b[0m \u001b[0mdtype\u001b[0m\u001b[1;33m,\u001b[0m \u001b[0moriginal\u001b[0m\u001b[1;33m)\u001b[0m\u001b[1;33m\u001b[0m\u001b[0m\n\u001b[0;32m    366\u001b[0m \u001b[1;33m\u001b[0m\u001b[0m\n",
      "\u001b[1;32mpandas/_libs/hashtable_class_helper.pxi\u001b[0m in \u001b[0;36mpandas._libs.hashtable.PyObjectHashTable.unique\u001b[1;34m()\u001b[0m\n",
      "\u001b[1;31mTypeError\u001b[0m: unhashable type: 'list'"
     ]
    },
    {
     "data": {
      "image/png": "[encoded data removed]",
      "text/plain": [
       "<matplotlib.figure.Figure at 0x21f07dfe1d0>"
      ]
     },
     "metadata": {},
     "output_type": "display_data"
    },
    {
     "data": {
      "image/png": "[encoded data removed]",
      "text/plain": [
       "<matplotlib.figure.Figure at 0x21f07e674a8>"
      ]
     },
     "metadata": {},
     "output_type": "display_data"
    }
   ],
   "source": [
    "import matplotlib.pyplot as plt\n",
    "import seaborn as sns\n",
    "%matplotlib inline\n",
    "df2=pd.DataFrame({'x':vis_df.x,'y':vis_df.y})\n",
    "# plt.xlim(-95,95)\n",
    "# plt.ylim(-95,95)\n",
    "\n",
    "# plt.scatter(x='x',y='y',data=df3)\n",
    "plt.scatter(x='x',y='y',data=vis_df)\n",
    "sns.set(style=\"ticks\")\n",
    "x = vis_df.x\n",
    "y = vis_df.y\n",
    "sns.jointplot(x, y, size=4,kind=\"hex\")\n",
    "fg = sns.FacetGrid(data=vis_df, hue='label')\n",
    "# fg.map(pyplot.scatter).add_legend()\n",
    "\n",
    "\n"
   ]
  },
  {
   "cell_type": "code",
   "execution_count": 56,
   "metadata": {
    "scrolled": true
   },
   "outputs": [
    {
     "data": {
      "text/plain": [
       "<seaborn.axisgrid.JointGrid at 0x21f0e942908>"
      ]
     },
     "execution_count": 56,
     "metadata": {},
     "output_type": "execute_result"
    },
    {
     "data": {
      "image/png": "[encoded data removed]",
      "text/plain": [
       "<matplotlib.figure.Figure at 0x21f0e942f28>"
      ]
     },
     "metadata": {},
     "output_type": "display_data"
    }
   ],
   "source": [
    "sns.jointplot(df2.x, df2.y, kind=\"kde\", size=7, space=0)"
   ]
  },
  {
   "cell_type": "code",
   "execution_count": null,
   "metadata": {},
   "outputs": [],
   "source": []
  }
 ],
 "metadata": {
  "kernelspec": {
   "display_name": "Python 3",
   "language": "python",
   "name": "python3"
  },
  "language_info": {
   "codemirror_mode": {
    "name": "ipython",
    "version": 3
   },
   "file_extension": ".py",
   "mimetype": "text/x-python",
   "name": "python",
   "nbconvert_exporter": "python",
   "pygments_lexer": "ipython3",
   "version": "3.6.4"
  }
 },
 "nbformat": 4,
 "nbformat_minor": 2
}
